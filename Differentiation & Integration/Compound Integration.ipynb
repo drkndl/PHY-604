{
 "cells": [
  {
   "cell_type": "code",
   "execution_count": 130,
   "metadata": {},
   "outputs": [],
   "source": [
    "import numpy as np\n",
    "import matplotlib.pyplot as plt\n",
    "import sympy as sy\n",
    "import math"
   ]
  },
  {
   "cell_type": "markdown",
   "metadata": {},
   "source": [
    "Finding $f(x)=e^{-x}$ using:\n",
    "\n",
    "a. Compound Simpson's Rule\n",
    "\n",
    "b. Compound Trapezoidal Rule"
   ]
  },
  {
   "cell_type": "code",
   "execution_count": 131,
   "metadata": {},
   "outputs": [],
   "source": [
    "#Defining f(x)\n",
    "def integ(arr):\n",
    "    integ=0\n",
    "    analytical=[]\n",
    "    for num in arr:\n",
    "        integ+=-sy.exp(-num)\n",
    "        analytical.append(integ)\n",
    "    return analytical\n",
    "\n",
    "def func(arr):\n",
    "    return sy.exp(-arr)"
   ]
  },
  {
   "cell_type": "code",
   "execution_count": 132,
   "metadata": {},
   "outputs": [
    {
     "name": "stdout",
     "output_type": "stream",
     "text": [
      "[ 0.   0.5  1.   1.5  2.   2.5  3.   3.5  4.   4.5  5.   5.5  6.   6.5\n",
      "  7.   7.5  8.   8.5  9.   9.5 10. ] 0.05\n"
     ]
    }
   ],
   "source": [
    "#Defining the array and other related variables\n",
    "x=10.0\n",
    "nx=21\n",
    "xarr=np.linspace(0,x,nx)\n",
    "print(xarr,dx)"
   ]
  },
  {
   "cell_type": "code",
   "execution_count": 133,
   "metadata": {},
   "outputs": [
    {
     "name": "stdout",
     "output_type": "stream",
     "text": [
      "-exp(-x)\n"
     ]
    },
    {
     "data": {
      "text/latex": [
       "$\\displaystyle 1 - e^{-10}$"
      ],
      "text/plain": [
       "1 - exp(-10)"
      ]
     },
     "execution_count": 133,
     "metadata": {},
     "output_type": "execute_result"
    }
   ],
   "source": [
    "#Finding the analytical solution\n",
    "ex=symbols('x')\n",
    "print(integrate(func(ex),ex))\n",
    "integrate(func(ex), (ex,0,10))"
   ]
  },
  {
   "cell_type": "code",
   "execution_count": 139,
   "metadata": {},
   "outputs": [
    {
     "name": "stdout",
     "output_type": "stream",
     "text": [
      "3.00629399125464e-5\n",
      "[0.401632664928158, 0.243602525221019, 0.147752400329968, 0.0896163608462606, 0.0543550704651279, 0.0329680167479407, 0.0199961129475456, 0.0121282555777632, 0.00735615885674412, 0.00446173588433194, 0.00270617960938738, 0.00164138090378261, 0.000995547842410983, 0.000603830289633022, 0.000366241583925587, 0.000222136749512586, 0.000134732749228289, 8.17195432743309e-5, 4.95654084935950e-5, 3.00629399125464e-5]\n"
     ]
    }
   ],
   "source": [
    "#Compound Trapezoidal Rule\n",
    "integral=0\n",
    "trapint=[]\n",
    "for i in range(nx-1):\n",
    "    integral = 0.5*(xarr[i+1]-xarr[i])*(func(xarr[i]) + func(xarr[i+1]))\n",
    "    trapint.append(integral)\n",
    "print(integral)\n",
    "print(trapint)"
   ]
  },
  {
   "cell_type": "code",
   "execution_count": 141,
   "metadata": {},
   "outputs": [
    {
     "name": "stdout",
     "output_type": "stream",
     "text": [
      "0.632333680003663\n",
      "0.232622560833629\n",
      "0.0855770576833453\n",
      "0.0314820401576454\n",
      "0.0115815953401315\n",
      "0.00426063082160135\n",
      "0.00156739848568853\n",
      "0.000576613679008060\n",
      "0.000212124318005295\n",
      "7.80361755666611e-5\n",
      "7.80361755666611e-5\n",
      "[0.632333680003663, 0.232622560833629, 0.0855770576833453, 0.0314820401576454, 0.0115815953401315, 0.00426063082160135, 0.00156739848568853, 0.000576613679008060, 0.000212124318005295, 7.80361755666611e-5]\n"
     ]
    }
   ],
   "source": [
    "#Compound Simpson's Rule\n",
    "integral=0\n",
    "simpint=[]\n",
    "for i in range(0,nx-1,2):\n",
    "    integral = 1.0/3.0*(xarr[1]-xarr[0])*(func(xarr[i]) + 4*func(xarr[i+1]) + func(xarr[i+2]))\n",
    "    print(integral)\n",
    "    simpint.append(integral)\n",
    "    #simpint.append(1.0/3.0*(xarr[1]-xarr[0])*(func(xarr[i]) + 4*func(xarr[i+1]) + func(xarr[i+2])))\n",
    "print(integral)\n",
    "print(simpint)"
   ]
  },
  {
   "cell_type": "code",
   "execution_count": 142,
   "metadata": {},
   "outputs": [
    {
     "name": "stdout",
     "output_type": "stream",
     "text": [
      "[-1, -1.60653065971263, -1.97441010088408, -2.19754026103251, -2.33287554426912, -2.41496054289302, -2.46474761126088, -2.49494499468320, -2.51326063357193, -2.52436963011018, -2.53110757710926, -2.53519434854773, -2.53767310072439, -2.53917653991737, -2.54008842188292, -2.54064150625307, -2.54097696888097, -2.54118043724999, -2.54130384705407, -2.54137869888396, -2.54142409881372]\n"
     ]
    },
    {
     "data": {
      "text/plain": [
       "[<matplotlib.lines.Line2D at 0x27d71a7d948>]"
      ]
     },
     "execution_count": 142,
     "metadata": {},
     "output_type": "execute_result"
    },
    {
     "data": {
      "image/png": "[encoded data removed]",
      "text/plain": [
       "<Figure size 432x288 with 1 Axes>"
      ]
     },
     "metadata": {
      "needs_background": "light"
     },
     "output_type": "display_data"
    }
   ],
   "source": [
    "#Plotting the values\n",
    "print(integ(xarr))\n",
    "plt.plot(xarr,-np.exp(-xarr))\n",
    "plt.plot(xarr[1:],trapint)\n",
    "plt.plot(xarr[:-1:2], simpint)"
   ]
  },
  {
   "cell_type": "code",
   "execution_count": null,
   "metadata": {},
   "outputs": [],
   "source": []
  }
 ],
 "metadata": {
  "kernelspec": {
   "display_name": "Python 3",
   "language": "python",
   "name": "python3"
  },
  "language_info": {
   "codemirror_mode": {
    "name": "ipython",
    "version": 3
   },
   "file_extension": ".py",
   "mimetype": "text/x-python",
   "name": "python",
   "nbconvert_exporter": "python",
   "pygments_lexer": "ipython3",
   "version": "3.7.6"
  }
 },
 "nbformat": 4,
 "nbformat_minor": 4
}
